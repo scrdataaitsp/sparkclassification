{
 "cells": [
  {
   "cell_type": "code",
   "execution_count": 3,
   "metadata": {},
   "outputs": [],
   "source": [
    "# Use the Azure Machine Learning data collector to log various metrics\n",
    "from azureml.logging import get_azureml_logger\n",
    "logger = get_azureml_logger()"
   ]
  },
  {
   "cell_type": "code",
   "execution_count": 4,
   "metadata": {},
   "outputs": [
    {
     "name": "stderr",
     "output_type": "stream",
     "text": [
      "UsageError: Line magic function `%azureml` not found.\n"
     ]
    }
   ],
   "source": [
    "# Use Azure Machine Learning history magic to control history collection\n",
    "# History is off by default, options are \"on\", \"off\", or \"show\"\n",
    "%azureml history off"
   ]
  },
  {
   "cell_type": "code",
   "execution_count": 5,
   "metadata": {},
   "outputs": [],
   "source": [
    "#from azureml.dataprep import datasource\n",
    "#df = datasource.load_datasource('POLinesCMC.dsource')\n",
    "from azureml.dataprep import datasource\n",
    "df = datasource.load_datasource('POLinesCMC.dsource')"
   ]
  },
  {
   "cell_type": "code",
   "execution_count": 6,
   "metadata": {},
   "outputs": [],
   "source": [
    "df.dropna(subset=['Category'], inplace=True)"
   ]
  },
  {
   "cell_type": "code",
   "execution_count": 7,
   "metadata": {},
   "outputs": [],
   "source": [
    "df1 = df[df['Category']==\"\"]"
   ]
  },
  {
   "cell_type": "code",
   "execution_count": 22,
   "metadata": {},
   "outputs": [
    {
     "data": {
      "text/plain": [
       "pandas.core.frame.DataFrame"
      ]
     },
     "execution_count": 22,
     "metadata": {},
     "output_type": "execute_result"
    }
   ],
   "source": [
    "import pandas as pd\n",
    "type(df1)"
   ]
  },
  {
   "cell_type": "code",
   "execution_count": 8,
   "metadata": {},
   "outputs": [],
   "source": [
    "df2 = df1[['Company Code','Type','PGr','Created','Short Text','Material number','Material Group','Material Type','Storage Location','Vendor Material Number','Base Unit of Measure','Unit of Weight','Acct Assignment Cat.','Material freight grp','Plant','Category','Profit Center','Scenario']]"
   ]
  },
  {
   "cell_type": "code",
   "execution_count": null,
   "metadata": {},
   "outputs": [],
   "source": [
    "df2[df2.Scenario == \"Sc2\"]"
   ]
  },
  {
   "cell_type": "code",
   "execution_count": 9,
   "metadata": {},
   "outputs": [],
   "source": [
    "rawdata = df2[['Category','Scenario','Company Code','Type','PGr','Created','Short Text','Storage Location','Vendor Material Number','Base Unit of Measure','Unit of Weight','Acct Assignment Cat.','Material freight grp','Plant','Profit Center']]"
   ]
  },
  {
   "cell_type": "code",
   "execution_count": 10,
   "metadata": {},
   "outputs": [
    {
     "data": {
      "text/html": [
       "<div>\n",
       "<table border=\"1\" class=\"dataframe\">\n",
       "  <thead>\n",
       "    <tr style=\"text-align: right;\">\n",
       "      <th></th>\n",
       "      <th>Category</th>\n",
       "      <th>Scenario</th>\n",
       "      <th>Company Code</th>\n",
       "      <th>Type</th>\n",
       "      <th>PGr</th>\n",
       "      <th>Created</th>\n",
       "      <th>Short Text</th>\n",
       "      <th>Storage Location</th>\n",
       "      <th>Vendor Material Number</th>\n",
       "      <th>Base Unit of Measure</th>\n",
       "      <th>Unit of Weight</th>\n",
       "      <th>Acct Assignment Cat.</th>\n",
       "      <th>Material freight grp</th>\n",
       "      <th>Plant</th>\n",
       "      <th>Profit Center</th>\n",
       "    </tr>\n",
       "  </thead>\n",
       "  <tbody>\n",
       "    <tr>\n",
       "      <th>0</th>\n",
       "      <td></td>\n",
       "      <td>Sc1</td>\n",
       "      <td>1200</td>\n",
       "      <td>ZNB</td>\n",
       "      <td>J04</td>\n",
       "      <td>P00063168</td>\n",
       "      <td>SPLICE BAR, #05(16mm) EPOXY</td>\n",
       "      <td>1000</td>\n",
       "      <td></td>\n",
       "      <td>EA</td>\n",
       "      <td>LB</td>\n",
       "      <td>N</td>\n",
       "      <td>9999999.0</td>\n",
       "      <td>2910</td>\n",
       "      <td>1451.0</td>\n",
       "    </tr>\n",
       "    <tr>\n",
       "      <th>2</th>\n",
       "      <td></td>\n",
       "      <td>Sc1</td>\n",
       "      <td>1200</td>\n",
       "      <td>ZNB</td>\n",
       "      <td>J04</td>\n",
       "      <td>P00063168</td>\n",
       "      <td>SPLICE BAR, #05(16mm) EPOXY</td>\n",
       "      <td>1000</td>\n",
       "      <td></td>\n",
       "      <td>EA</td>\n",
       "      <td>LB</td>\n",
       "      <td>N</td>\n",
       "      <td>9999999.0</td>\n",
       "      <td>2910</td>\n",
       "      <td>1451.0</td>\n",
       "    </tr>\n",
       "    <tr>\n",
       "      <th>3</th>\n",
       "      <td></td>\n",
       "      <td>Sc1</td>\n",
       "      <td>1200</td>\n",
       "      <td>ZNB</td>\n",
       "      <td>J04</td>\n",
       "      <td>P00063168</td>\n",
       "      <td>SPLICE BAR, #05(16mm) EPOXY</td>\n",
       "      <td>1000</td>\n",
       "      <td></td>\n",
       "      <td>EA</td>\n",
       "      <td>LB</td>\n",
       "      <td>N</td>\n",
       "      <td>9999999.0</td>\n",
       "      <td>2910</td>\n",
       "      <td>1451.0</td>\n",
       "    </tr>\n",
       "    <tr>\n",
       "      <th>4</th>\n",
       "      <td></td>\n",
       "      <td>Sc1</td>\n",
       "      <td>1200</td>\n",
       "      <td>ZNB</td>\n",
       "      <td>J04</td>\n",
       "      <td>P00063168</td>\n",
       "      <td>SPLICE BAR, #06(19MM) EPOXY</td>\n",
       "      <td>1000</td>\n",
       "      <td></td>\n",
       "      <td>EA</td>\n",
       "      <td>LB</td>\n",
       "      <td>N</td>\n",
       "      <td>9999999.0</td>\n",
       "      <td>2910</td>\n",
       "      <td>1451.0</td>\n",
       "    </tr>\n",
       "    <tr>\n",
       "      <th>5</th>\n",
       "      <td></td>\n",
       "      <td>Sc1</td>\n",
       "      <td>1200</td>\n",
       "      <td>ZNB</td>\n",
       "      <td>J04</td>\n",
       "      <td>P00063168</td>\n",
       "      <td>SPLICE BAR, #09(29mm) EPOXY</td>\n",
       "      <td>1000</td>\n",
       "      <td></td>\n",
       "      <td>EA</td>\n",
       "      <td>LB</td>\n",
       "      <td>N</td>\n",
       "      <td>9999999.0</td>\n",
       "      <td>2910</td>\n",
       "      <td>1451.0</td>\n",
       "    </tr>\n",
       "    <tr>\n",
       "      <th>6</th>\n",
       "      <td></td>\n",
       "      <td>Sc1</td>\n",
       "      <td>1200</td>\n",
       "      <td>ZNB</td>\n",
       "      <td>J04</td>\n",
       "      <td>P00063168</td>\n",
       "      <td>SPLICE BAR, #09(29mm) EPOXY</td>\n",
       "      <td>1000</td>\n",
       "      <td></td>\n",
       "      <td>EA</td>\n",
       "      <td>LB</td>\n",
       "      <td>N</td>\n",
       "      <td>9999999.0</td>\n",
       "      <td>2910</td>\n",
       "      <td>1451.0</td>\n",
       "    </tr>\n",
       "    <tr>\n",
       "      <th>7</th>\n",
       "      <td></td>\n",
       "      <td>Sc1</td>\n",
       "      <td>1200</td>\n",
       "      <td>ZNB</td>\n",
       "      <td>J04</td>\n",
       "      <td>P00063168</td>\n",
       "      <td>SPLICE BAR #05(16MM)</td>\n",
       "      <td>1000</td>\n",
       "      <td></td>\n",
       "      <td>EA</td>\n",
       "      <td>LB</td>\n",
       "      <td>N</td>\n",
       "      <td>9999999.0</td>\n",
       "      <td>2910</td>\n",
       "      <td>1451.0</td>\n",
       "    </tr>\n",
       "    <tr>\n",
       "      <th>9</th>\n",
       "      <td></td>\n",
       "      <td>Sc1</td>\n",
       "      <td>1200</td>\n",
       "      <td>ZNB</td>\n",
       "      <td>J04</td>\n",
       "      <td>P00063168</td>\n",
       "      <td>SPLICE BAR #05(16MM)</td>\n",
       "      <td>1000</td>\n",
       "      <td></td>\n",
       "      <td>EA</td>\n",
       "      <td>LB</td>\n",
       "      <td>N</td>\n",
       "      <td>9999999.0</td>\n",
       "      <td>2910</td>\n",
       "      <td>1451.0</td>\n",
       "    </tr>\n",
       "    <tr>\n",
       "      <th>10</th>\n",
       "      <td></td>\n",
       "      <td>Sc1</td>\n",
       "      <td>1200</td>\n",
       "      <td>ZNB</td>\n",
       "      <td>I10</td>\n",
       "      <td>MOONEHR</td>\n",
       "      <td>REBAR 16MM (#5) 40'0\" 420/60</td>\n",
       "      <td>2000</td>\n",
       "      <td></td>\n",
       "      <td>LB</td>\n",
       "      <td>LB</td>\n",
       "      <td></td>\n",
       "      <td>3312468.0</td>\n",
       "      <td>2350</td>\n",
       "      <td>1210.0</td>\n",
       "    </tr>\n",
       "    <tr>\n",
       "      <th>11</th>\n",
       "      <td></td>\n",
       "      <td>Sc1</td>\n",
       "      <td>1200</td>\n",
       "      <td>ZNB</td>\n",
       "      <td>I10</td>\n",
       "      <td>MOONEHR</td>\n",
       "      <td>REBAR 16MM (#5) 40'0\" 420/60</td>\n",
       "      <td>2000</td>\n",
       "      <td></td>\n",
       "      <td>LB</td>\n",
       "      <td>LB</td>\n",
       "      <td></td>\n",
       "      <td>3312468.0</td>\n",
       "      <td>2350</td>\n",
       "      <td>1210.0</td>\n",
       "    </tr>\n",
       "  </tbody>\n",
       "</table>\n",
       "</div>"
      ],
      "text/plain": [
       "   Category Scenario Company Code Type  PGr    Created  \\\n",
       "0                Sc1         1200  ZNB  J04  P00063168   \n",
       "2                Sc1         1200  ZNB  J04  P00063168   \n",
       "3                Sc1         1200  ZNB  J04  P00063168   \n",
       "4                Sc1         1200  ZNB  J04  P00063168   \n",
       "5                Sc1         1200  ZNB  J04  P00063168   \n",
       "6                Sc1         1200  ZNB  J04  P00063168   \n",
       "7                Sc1         1200  ZNB  J04  P00063168   \n",
       "9                Sc1         1200  ZNB  J04  P00063168   \n",
       "10               Sc1         1200  ZNB  I10    MOONEHR   \n",
       "11               Sc1         1200  ZNB  I10    MOONEHR   \n",
       "\n",
       "                      Short Text Storage Location Vendor Material Number  \\\n",
       "0    SPLICE BAR, #05(16mm) EPOXY             1000                          \n",
       "2    SPLICE BAR, #05(16mm) EPOXY             1000                          \n",
       "3    SPLICE BAR, #05(16mm) EPOXY             1000                          \n",
       "4    SPLICE BAR, #06(19MM) EPOXY             1000                          \n",
       "5    SPLICE BAR, #09(29mm) EPOXY             1000                          \n",
       "6    SPLICE BAR, #09(29mm) EPOXY             1000                          \n",
       "7           SPLICE BAR #05(16MM)             1000                          \n",
       "9           SPLICE BAR #05(16MM)             1000                          \n",
       "10  REBAR 16MM (#5) 40'0\" 420/60             2000                          \n",
       "11  REBAR 16MM (#5) 40'0\" 420/60             2000                          \n",
       "\n",
       "   Base Unit of Measure Unit of Weight Acct Assignment Cat.  \\\n",
       "0                    EA             LB                    N   \n",
       "2                    EA             LB                    N   \n",
       "3                    EA             LB                    N   \n",
       "4                    EA             LB                    N   \n",
       "5                    EA             LB                    N   \n",
       "6                    EA             LB                    N   \n",
       "7                    EA             LB                    N   \n",
       "9                    EA             LB                    N   \n",
       "10                   LB             LB                        \n",
       "11                   LB             LB                        \n",
       "\n",
       "    Material freight grp Plant  Profit Center  \n",
       "0              9999999.0  2910         1451.0  \n",
       "2              9999999.0  2910         1451.0  \n",
       "3              9999999.0  2910         1451.0  \n",
       "4              9999999.0  2910         1451.0  \n",
       "5              9999999.0  2910         1451.0  \n",
       "6              9999999.0  2910         1451.0  \n",
       "7              9999999.0  2910         1451.0  \n",
       "9              9999999.0  2910         1451.0  \n",
       "10             3312468.0  2350         1210.0  \n",
       "11             3312468.0  2350         1210.0  "
      ]
     },
     "execution_count": 10,
     "metadata": {},
     "output_type": "execute_result"
    }
   ],
   "source": [
    "rawdata.head(10)"
   ]
  },
  {
   "cell_type": "code",
   "execution_count": 11,
   "metadata": {},
   "outputs": [],
   "source": [
    "rawdata['inputstring'] = rawdata[['Scenario','Company Code','Type','PGr','Created','Short Text','Storage Location','Vendor Material Number','Base Unit of Measure','Unit of Weight','Acct Assignment Cat.','Material freight grp','Plant','Profit Center']].apply(lambda x: ' , '.join(x.astype(str)), axis=1)"
   ]
  },
  {
   "cell_type": "code",
   "execution_count": 19,
   "metadata": {},
   "outputs": [],
   "source": [
    "finaldataset = rawdata[['Category','inputstring']]"
   ]
  },
  {
   "cell_type": "code",
   "execution_count": 20,
   "metadata": {},
   "outputs": [],
   "source": [
    "finaldataset.to_csv('/Users/srram/Desktop/analysis1.tsv',sep='\\t')"
   ]
  },
  {
   "cell_type": "code",
   "execution_count": 21,
   "metadata": {},
   "outputs": [
    {
     "data": {
      "text/plain": [
       "Category       13841\n",
       "inputstring    13841\n",
       "dtype: int64"
      ]
     },
     "execution_count": 21,
     "metadata": {},
     "output_type": "execute_result"
    }
   ],
   "source": [
    "finaldataset.count()"
   ]
  },
  {
   "cell_type": "code",
   "execution_count": 12,
   "metadata": {},
   "outputs": [],
   "source": [
    "df1.to_csv('/Users/srram/Desktop/tobescored.tsv',sep='\\t')"
   ]
  },
  {
   "cell_type": "code",
   "execution_count": null,
   "metadata": {},
   "outputs": [],
   "source": []
  }
 ],
 "metadata": {
  "kernelspec": {
   "display_name": "Python 3",
   "language": "python",
   "name": "python3"
  },
  "language_info": {
   "codemirror_mode": {
    "name": "ipython",
    "version": 3
   },
   "file_extension": ".py",
   "mimetype": "text/x-python",
   "name": "python",
   "nbconvert_exporter": "python",
   "pygments_lexer": "ipython3",
   "version": "3.5.2"
  }
 },
 "nbformat": 4,
 "nbformat_minor": 2
}
